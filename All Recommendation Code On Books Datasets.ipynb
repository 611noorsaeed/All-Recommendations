{
 "cells": [
  {
   "cell_type": "markdown",
   "id": "5a11e3ed",
   "metadata": {},
   "source": [
    "# Load Datasets"
   ]
  },
  {
   "cell_type": "code",
   "execution_count": 16,
   "id": "74d5bb6b",
   "metadata": {},
   "outputs": [
    {
     "name": "stderr",
     "output_type": "stream",
     "text": [
      "C:\\Users\\Noor Saeed\\AppData\\Local\\Temp\\ipykernel_16268\\197446936.py:4: DtypeWarning: Columns (3) have mixed types. Specify dtype option on import or set low_memory=False.\n",
      "  books = pd.read_csv(\"books datasets/Books.csv\")\n"
     ]
    }
   ],
   "source": [
    "import pandas as pd\n",
    "\n",
    "# Load datasets\n",
    "books = pd.read_csv(\"books datasets/Books.csv\")\n",
    "ratings = pd.read_csv('books datasets//Ratings.csv')"
   ]
  },
  {
   "cell_type": "code",
   "execution_count": 4,
   "id": "f2f384fd",
   "metadata": {},
   "outputs": [],
   "source": [
    "# Merging both dataset\n",
    "df = pd.merge(books, ratings, on='ISBN', how='left')"
   ]
  },
  {
   "cell_type": "markdown",
   "id": "d36780b1",
   "metadata": {},
   "source": [
    "# Data Cleaning"
   ]
  },
  {
   "cell_type": "code",
   "execution_count": 5,
   "id": "1994d9e0",
   "metadata": {},
   "outputs": [
    {
     "data": {
      "text/plain": [
       "ISBN                      0\n",
       "Book-Title                0\n",
       "Book-Author               2\n",
       "Year-Of-Publication       0\n",
       "Publisher                 2\n",
       "Image-URL-S               0\n",
       "Image-URL-M               0\n",
       "Image-URL-L               4\n",
       "User-ID                1209\n",
       "Book-Rating            1209\n",
       "dtype: int64"
      ]
     },
     "execution_count": 5,
     "metadata": {},
     "output_type": "execute_result"
    }
   ],
   "source": [
    "df.isnull().sum()"
   ]
  },
  {
   "cell_type": "code",
   "execution_count": 6,
   "id": "dd940df7",
   "metadata": {},
   "outputs": [],
   "source": [
    "df.dropna(inplace=True)"
   ]
  },
  {
   "cell_type": "code",
   "execution_count": 9,
   "id": "9f60e376",
   "metadata": {},
   "outputs": [],
   "source": [
    "df = df[['ISBN','User-ID','Book-Title','Book-Author','Publisher','Book-Rating','Image-URL-M']]"
   ]
  },
  {
   "cell_type": "code",
   "execution_count": 10,
   "id": "5340cf32",
   "metadata": {},
   "outputs": [
    {
     "data": {
      "text/plain": [
       "(1031128, 7)"
      ]
     },
     "execution_count": 10,
     "metadata": {},
     "output_type": "execute_result"
    }
   ],
   "source": [
    "df.shape"
   ]
  },
  {
   "cell_type": "code",
   "execution_count": 12,
   "id": "0ae31c3a",
   "metadata": {},
   "outputs": [],
   "source": [
    "df = df.sample(n=20000,random_state=42).reset_index(drop=True)"
   ]
  },
  {
   "cell_type": "code",
   "execution_count": 13,
   "id": "af10b579",
   "metadata": {},
   "outputs": [
    {
     "data": {
      "text/plain": [
       "(20000, 7)"
      ]
     },
     "execution_count": 13,
     "metadata": {},
     "output_type": "execute_result"
    }
   ],
   "source": [
    "df.shape"
   ]
  },
  {
   "cell_type": "code",
   "execution_count": 15,
   "id": "9ebc825e",
   "metadata": {},
   "outputs": [],
   "source": [
    "df.to_csv(\"books datasets/final_df.csv\")"
   ]
  },
  {
   "cell_type": "code",
   "execution_count": 37,
   "id": "004fc1d8",
   "metadata": {},
   "outputs": [],
   "source": [
    "df = pd.read_csv(\"books datasets/final_df.csv\")"
   ]
  },
  {
   "cell_type": "markdown",
   "id": "0144568c",
   "metadata": {},
   "source": [
    "# Popularity Base Recommendation System\n",
    "\n",
    "To implement a popularity-based recommendation system using the dataset you provided, the idea is to recommend the most popular books based on the number of ratings or the average rating score. Here’s how you can do this:\n",
    "\n",
    "\n",
    "Step 1: Group the dataset by Book-Title and calculate the average rating and the number of ratings for each book.\n",
    "\n",
    "Step 2: Sort the books based on either the average rating or the number of ratings (whichever you define as \"popularity\").\n",
    "\n",
    "Step 3: Recommend books that have the highest popularity score."
   ]
  },
  {
   "cell_type": "code",
   "execution_count": 38,
   "id": "a6ad66cd",
   "metadata": {},
   "outputs": [
    {
     "data": {
      "text/html": [
       "<div>\n",
       "<style scoped>\n",
       "    .dataframe tbody tr th:only-of-type {\n",
       "        vertical-align: middle;\n",
       "    }\n",
       "\n",
       "    .dataframe tbody tr th {\n",
       "        vertical-align: top;\n",
       "    }\n",
       "\n",
       "    .dataframe thead th {\n",
       "        text-align: right;\n",
       "    }\n",
       "</style>\n",
       "<table border=\"1\" class=\"dataframe\">\n",
       "  <thead>\n",
       "    <tr style=\"text-align: right;\">\n",
       "      <th></th>\n",
       "      <th>Book-Title</th>\n",
       "      <th>Avg-Rating</th>\n",
       "      <th>Num-Ratings</th>\n",
       "      <th>Image-URL-M</th>\n",
       "    </tr>\n",
       "  </thead>\n",
       "  <tbody>\n",
       "    <tr>\n",
       "      <th>0</th>\n",
       "      <td>Wild Animus</td>\n",
       "      <td>1.063492</td>\n",
       "      <td>63</td>\n",
       "      <td>http://images.amazon.com/images/P/0971880107.0...</td>\n",
       "    </tr>\n",
       "    <tr>\n",
       "      <th>63</th>\n",
       "      <td>The Lovely Bones: A Novel</td>\n",
       "      <td>4.000000</td>\n",
       "      <td>29</td>\n",
       "      <td>http://images.amazon.com/images/P/0316666343.0...</td>\n",
       "    </tr>\n",
       "    <tr>\n",
       "      <th>92</th>\n",
       "      <td>Divine Secrets of the Ya-Ya Sisterhood: A Novel</td>\n",
       "      <td>4.181818</td>\n",
       "      <td>22</td>\n",
       "      <td>http://images.amazon.com/images/P/0060928336.0...</td>\n",
       "    </tr>\n",
       "    <tr>\n",
       "      <th>114</th>\n",
       "      <td>The Da Vinci Code</td>\n",
       "      <td>4.045455</td>\n",
       "      <td>22</td>\n",
       "      <td>http://images.amazon.com/images/P/0385504209.0...</td>\n",
       "    </tr>\n",
       "    <tr>\n",
       "      <th>136</th>\n",
       "      <td>The Nanny Diaries: A Novel</td>\n",
       "      <td>3.952381</td>\n",
       "      <td>21</td>\n",
       "      <td>http://images.amazon.com/images/P/0312291639.0...</td>\n",
       "    </tr>\n",
       "    <tr>\n",
       "      <th>157</th>\n",
       "      <td>Summer Sisters</td>\n",
       "      <td>3.294118</td>\n",
       "      <td>17</td>\n",
       "      <td>http://images.amazon.com/images/P/0440226430.0...</td>\n",
       "    </tr>\n",
       "    <tr>\n",
       "      <th>174</th>\n",
       "      <td>The Five People You Meet in Heaven</td>\n",
       "      <td>5.062500</td>\n",
       "      <td>16</td>\n",
       "      <td>http://images.amazon.com/images/P/0786868716.0...</td>\n",
       "    </tr>\n",
       "    <tr>\n",
       "      <th>190</th>\n",
       "      <td>Suzanne's Diary for Nicholas</td>\n",
       "      <td>4.062500</td>\n",
       "      <td>16</td>\n",
       "      <td>http://images.amazon.com/images/P/0446679593.0...</td>\n",
       "    </tr>\n",
       "    <tr>\n",
       "      <th>206</th>\n",
       "      <td>Me Talk Pretty One Day</td>\n",
       "      <td>3.800000</td>\n",
       "      <td>15</td>\n",
       "      <td>http://images.amazon.com/images/P/0316777722.0...</td>\n",
       "    </tr>\n",
       "    <tr>\n",
       "      <th>221</th>\n",
       "      <td>A Painted House</td>\n",
       "      <td>2.533333</td>\n",
       "      <td>15</td>\n",
       "      <td>http://images.amazon.com/images/P/038550120X.0...</td>\n",
       "    </tr>\n",
       "  </tbody>\n",
       "</table>\n",
       "</div>"
      ],
      "text/plain": [
       "                                          Book-Title  Avg-Rating  Num-Ratings  \\\n",
       "0                                        Wild Animus    1.063492           63   \n",
       "63                         The Lovely Bones: A Novel    4.000000           29   \n",
       "92   Divine Secrets of the Ya-Ya Sisterhood: A Novel    4.181818           22   \n",
       "114                                The Da Vinci Code    4.045455           22   \n",
       "136                       The Nanny Diaries: A Novel    3.952381           21   \n",
       "157                                   Summer Sisters    3.294118           17   \n",
       "174               The Five People You Meet in Heaven    5.062500           16   \n",
       "190                     Suzanne's Diary for Nicholas    4.062500           16   \n",
       "206                           Me Talk Pretty One Day    3.800000           15   \n",
       "221                                  A Painted House    2.533333           15   \n",
       "\n",
       "                                           Image-URL-M  \n",
       "0    http://images.amazon.com/images/P/0971880107.0...  \n",
       "63   http://images.amazon.com/images/P/0316666343.0...  \n",
       "92   http://images.amazon.com/images/P/0060928336.0...  \n",
       "114  http://images.amazon.com/images/P/0385504209.0...  \n",
       "136  http://images.amazon.com/images/P/0312291639.0...  \n",
       "157  http://images.amazon.com/images/P/0440226430.0...  \n",
       "174  http://images.amazon.com/images/P/0786868716.0...  \n",
       "190  http://images.amazon.com/images/P/0446679593.0...  \n",
       "206  http://images.amazon.com/images/P/0316777722.0...  \n",
       "221  http://images.amazon.com/images/P/038550120X.0...  "
      ]
     },
     "execution_count": 38,
     "metadata": {},
     "output_type": "execute_result"
    }
   ],
   "source": [
    "# Step 1: Calculate average ratings and the number of ratings\n",
    "book_ratings = df.groupby('Book-Title').agg({'Book-Rating': ['mean', 'count']}).reset_index()\n",
    "\n",
    "# Step 2: Sort the books based on the count of ratings (popularity) or average rating\n",
    "book_ratings.columns = ['Book-Title', 'Avg-Rating', 'Num-Ratings']\n",
    "book_ratings_sorted = book_ratings.sort_values(by=['Num-Ratings', 'Avg-Rating'], ascending=False)\n",
    "\n",
    "# Step 3: Recommend the top N popular books\n",
    "top_books = book_ratings_sorted.head(10)  # Change N to the number of books you want to recommend\n",
    "\n",
    "# Step 4: Merge with the original dataset to include Author, Publisher, and Image-URL-M\n",
    "top_books_final = pd.merge(top_books, df[['Book-Title','Image-URL-M']], on='Book-Title', how='left')\n",
    "\n",
    "# Step 5: Drop duplicate rows based on Book-Title\n",
    "top_books_final = top_books_final.drop_duplicates(subset=['Book-Title'])\n",
    "\n",
    "# Display the top N recommended books with the additional columns\n",
    "top_books_final"
   ]
  },
  {
   "cell_type": "code",
   "execution_count": 39,
   "id": "34530868",
   "metadata": {},
   "outputs": [],
   "source": [
    "top_books_final.to_csv(\"books datasets/top_books_final.csv\")"
   ]
  },
  {
   "cell_type": "code",
   "execution_count": null,
   "id": "d843f1a6",
   "metadata": {},
   "outputs": [],
   "source": []
  }
 ],
 "metadata": {
  "kernelspec": {
   "display_name": "Python 3 (ipykernel)",
   "language": "python",
   "name": "python3"
  },
  "language_info": {
   "codemirror_mode": {
    "name": "ipython",
    "version": 3
   },
   "file_extension": ".py",
   "mimetype": "text/x-python",
   "name": "python",
   "nbconvert_exporter": "python",
   "pygments_lexer": "ipython3",
   "version": "3.9.12"
  }
 },
 "nbformat": 4,
 "nbformat_minor": 5
}
